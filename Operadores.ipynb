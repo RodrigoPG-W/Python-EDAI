{
 "cells": [
  {
   "cell_type": "code",
   "execution_count": 1,
   "metadata": {},
   "outputs": [
    {
     "name": "stdout",
     "output_type": "stream",
     "text": [
      "6\n",
      "18\n",
      "6\n",
      "2.0\n",
      "0\n",
      "7.1\n",
      "4\n"
     ]
    }
   ],
   "source": [
    "#ARITMÉTICOS\n",
    "print( 1 + 5 )\n",
    "print( 6 * 3 )\n",
    "print( 10 - 4 )\n",
    "print( 100 / 50 )\n",
    "print( 10 % 2 )\n",
    "print( ((20 * 3) + (10 +1)) / 10 )\n",
    "print( 2**2 )   #Para el exponente se  puede utilizar asterisco"
   ]
  },
  {
   "cell_type": "code",
   "execution_count": 2,
   "metadata": {},
   "outputs": [
    {
     "data": {
      "text/plain": [
       "False"
      ]
     },
     "execution_count": 2,
     "metadata": {},
     "output_type": "execute_result"
    }
   ],
   "source": [
    "#BOOLEANOS\n",
    "False and True"
   ]
  },
  {
   "cell_type": "code",
   "execution_count": 3,
   "metadata": {},
   "outputs": [
    {
     "data": {
      "text/plain": [
       "True"
      ]
     },
     "execution_count": 3,
     "metadata": {},
     "output_type": "execute_result"
    }
   ],
   "source": [
    "True or False     #Se debe respetar la mayúscula."
   ]
  },
  {
   "cell_type": "code",
   "execution_count": 4,
   "metadata": {},
   "outputs": [
    {
     "name": "stdout",
     "output_type": "stream",
     "text": [
      "False\n",
      "True\n",
      "True\n",
      "False\n",
      "True\n"
     ]
    }
   ],
   "source": [
    "#COMPARACIÓN\n",
    "print (7 < 5)  #Falso\n",
    "\n",
    "print (7 > 5) #Verdadero\n",
    "\n",
    "print ((11 * 3)+2 == 36 - 1)  #Verdadero\n",
    "\n",
    "print ((11 * 3)+2 >= 36)   #Falso\n",
    "\n",
    "print (\"curso\" != \"CuRsO\") #Verdadero"
   ]
  },
  {
   "cell_type": "code",
   "execution_count": null,
   "metadata": {},
   "outputs": [],
   "source": []
  }
 ],
 "metadata": {
  "kernelspec": {
   "display_name": "Python 3",
   "language": "python",
   "name": "python3"
  },
  "language_info": {
   "codemirror_mode": {
    "name": "ipython",
    "version": 3
   },
   "file_extension": ".py",
   "mimetype": "text/x-python",
   "name": "python",
   "nbconvert_exporter": "python",
   "pygments_lexer": "ipython3",
   "version": "3.7.7"
  }
 },
 "nbformat": 4,
 "nbformat_minor": 4
}
