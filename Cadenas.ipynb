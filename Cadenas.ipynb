{
 "cells": [
  {
   "cell_type": "code",
   "execution_count": 1,
   "metadata": {},
   "outputs": [
    {
     "name": "stdout",
     "output_type": "stream",
     "text": [
      "Buenos \n",
      "Días\n"
     ]
    }
   ],
   "source": [
    "#Inicialización de cadenas\n",
    "cadena1 = 'Buenos '\n",
    "cadena2 = \"Días\"      #El acento es mostrado, a diferencia de C donde se ocupa su código ASCII.\n",
    "print(cadena1)\n",
    "print(cadena2)"
   ]
  },
  {
   "cell_type": "code",
   "execution_count": 2,
   "metadata": {},
   "outputs": [
    {
     "name": "stdout",
     "output_type": "stream",
     "text": [
      "Buenos Días\n"
     ]
    }
   ],
   "source": [
    "#Concatenar cadenas\n",
    "concat_cadenas = cadena1 + cadena2     #No requiere una función especial, basta con asignar\n",
    "print(concat_cadenas)                  #la suma de los identificadores a un nuevo identificador."
   ]
  },
  {
   "cell_type": "code",
   "execution_count": 3,
   "metadata": {},
   "outputs": [
    {
     "name": "stdout",
     "output_type": "stream",
     "text": [
      "Buenos Días 88\n"
     ]
    }
   ],
   "source": [
    "#Sólo se ocupa la función str() si se desea juntar un número. Hace un \"casteo\"\n",
    "num_cadena = concat_cadenas +' '+ str(88)  #Se agrega una cadena vacía para agregar un espacio\n",
    "print(num_cadena)"
   ]
  },
  {
   "cell_type": "code",
   "execution_count": 4,
   "metadata": {},
   "outputs": [
    {
     "name": "stdout",
     "output_type": "stream",
     "text": [
      "Buenos  Días 3\n"
     ]
    }
   ],
   "source": [
    "#Sin embargo, es preferible que se use la función format() para dar más claridad.\n",
    "#Sintaxis: \"{}\".format(identificadores)\n",
    "#El valor de la variable se va a imprimir en el lugar donde se encuentre {} en la cadena\n",
    "num_cadena = \"{} {} {}\".format(cadena1, cadena2, 3)\n",
    "print(num_cadena)"
   ]
  },
  {
   "cell_type": "code",
   "execution_count": 5,
   "metadata": {},
   "outputs": [
    {
     "name": "stdout",
     "output_type": "stream",
     "text": [
      "Cambiando el orden:  Días  2008  Buenos  #\n"
     ]
    }
   ],
   "source": [
    "#Cuando se agrega un númmero dentro de {#}, el valor la variable que se encuentra en esa posición \n",
    "#dentro de la función format(), será impreso.\n",
    "num_cadena = \"Cambiando el orden:  {1}  {2}  {0} #\".format(cadena1, cadena2, 2008)\n",
    "print(num_cadena)"
   ]
  },
  {
   "cell_type": "code",
   "execution_count": null,
   "metadata": {},
   "outputs": [],
   "source": []
  }
 ],
 "metadata": {
  "kernelspec": {
   "display_name": "Python 3",
   "language": "python",
   "name": "python3"
  },
  "language_info": {
   "codemirror_mode": {
    "name": "ipython",
    "version": 3
   },
   "file_extension": ".py",
   "mimetype": "text/x-python",
   "name": "python",
   "nbconvert_exporter": "python",
   "pygments_lexer": "ipython3",
   "version": "3.7.7"
  }
 },
 "nbformat": 4,
 "nbformat_minor": 4
}
