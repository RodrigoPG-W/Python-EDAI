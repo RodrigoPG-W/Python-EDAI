{
 "cells": [
  {
   "cell_type": "code",
   "execution_count": 1,
   "metadata": {},
   "outputs": [
    {
     "name": "stdout",
     "output_type": "stream",
     "text": [
      "hola JJ\n"
     ]
    }
   ],
   "source": [
    "#Las funciones pueden recibir n número de parámetros, no se necesita indicar el tipo\n",
    "def imprime_nombre(nombre):    #Se observa la identación a 4 espacios del teclado.\n",
    "    print(\"hola \"+nombre)  \n",
    "    \n",
    "\n",
    "#Llamada a la función\n",
    "imprime_nombre(\"JJ\")"
   ]
  },
  {
   "cell_type": "code",
   "execution_count": 4,
   "metadata": {},
   "outputs": [
    {
     "name": "stdout",
     "output_type": "stream",
     "text": [
      "El cuadrado de 9 es 81\n"
     ]
    }
   ],
   "source": [
    "#Definiendo una función que regresa el cuadrado de un número\n",
    "def cuadrado(x):\n",
    "    return x**2\n",
    "\n",
    "x = 9\n",
    "#Mediante la función format se convertierten los parámetros en cadenas, y éstos valores son reemplazadas\n",
    "#por las llaves de la cadena.\n",
    "print(\"El cuadrado de {} es {}\".format(x, cuadrado(x)))   #La función cuadrado() regresa un valor"
   ]
  },
  {
   "cell_type": "code",
   "execution_count": 6,
   "metadata": {},
   "outputs": [
    {
     "name": "stdout",
     "output_type": "stream",
     "text": [
      "64 512 4096\n"
     ]
    }
   ],
   "source": [
    "#Definiendo funciones que regresen más de un valor\n",
    "def varios(x):\n",
    "    return x**2, x**3, x**4\n",
    "\n",
    "#Los valores que regresa la función pueden ser guardado en variables separadas por\n",
    "val1, val2, val3 = varios(8)\n",
    "print(\"{} {} {}\".format(val1, val2, val3))"
   ]
  },
  {
   "cell_type": "code",
   "execution_count": 7,
   "metadata": {},
   "outputs": [
    {
     "data": {
      "text/plain": [
       "256"
      ]
     },
     "execution_count": 7,
     "metadata": {},
     "output_type": "execute_result"
    }
   ],
   "source": [
    "#Función con un parámetro con un valor por defecto\n",
    "def cuadrado_default(x=16):\n",
    "    return x**2\n",
    "\n",
    "#Como la función tiene un valor definido, si se manda llamar la función sin especificar el parámetro, se toma el que\n",
    "#tiene por defecto\n",
    "cuadrado_default()"
   ]
  },
  {
   "cell_type": "code",
   "execution_count": 8,
   "metadata": {},
   "outputs": [
    {
     "name": "stdout",
     "output_type": "stream",
     "text": [
      "4 16\n"
     ]
    }
   ],
   "source": [
    "#Cuando una función regresa más de una función, se puede usar el operado '_', para no guardar un valor no deseado.\n",
    "val4, _, val5 = varios(2)    #La función regresa tres, valores, pero eliminamos el segundo\n",
    "print(\"{} {}\".format(val4, val5))"
   ]
  },
  {
   "cell_type": "code",
   "execution_count": null,
   "metadata": {},
   "outputs": [],
   "source": []
  }
 ],
 "metadata": {
  "kernelspec": {
   "display_name": "Python 3",
   "language": "python",
   "name": "python3"
  },
  "language_info": {
   "codemirror_mode": {
    "name": "ipython",
    "version": 3
   },
   "file_extension": ".py",
   "mimetype": "text/x-python",
   "name": "python",
   "nbconvert_exporter": "python",
   "pygments_lexer": "ipython3",
   "version": "3.7.7"
  }
 },
 "nbformat": 4,
 "nbformat_minor": 4
}
