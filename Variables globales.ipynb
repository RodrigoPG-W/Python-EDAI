{
 "cells": [
  {
   "cell_type": "code",
   "execution_count": 2,
   "metadata": {},
   "outputs": [
    {
     "name": "stdout",
     "output_type": "stream",
     "text": [
      "Global\n",
      "Global\n"
     ]
    }
   ],
   "source": [
    "#Se crea una variable en el espacio global\n",
    "vg = 'Global'\n",
    "\n",
    "#Función que imprime la variable global\n",
    "def funcion_v1():\n",
    "    print(vg)\n",
    "    \n",
    "#Invocación de la función que imprime la variable global\n",
    "funcion_v1()\n",
    "\n",
    "#Imprime la variable global\n",
    "print(vg)"
   ]
  },
  {
   "cell_type": "code",
   "execution_count": 3,
   "metadata": {},
   "outputs": [
    {
     "name": "stdout",
     "output_type": "stream",
     "text": [
      "Local\n",
      "Global\n"
     ]
    }
   ],
   "source": [
    "#Se crea una variable local que tiene el mismo nombre que la variable global\n",
    "def funcion_v2():\n",
    "    vg = \"Local\"\n",
    "    print(vg)\n",
    "    \n",
    "#Invocación a la función \n",
    "funcion_v2()  #Imprime valor local\n",
    "\n",
    "#Imprime la variable global\n",
    "print(vg)"
   ]
  },
  {
   "cell_type": "code",
   "execution_count": 4,
   "metadata": {},
   "outputs": [
    {
     "ename": "UnboundLocalError",
     "evalue": "local variable 'vg' referenced before assignment",
     "output_type": "error",
     "traceback": [
      "\u001b[1;31m---------------------------------------------------------------------------\u001b[0m",
      "\u001b[1;31mUnboundLocalError\u001b[0m                         Traceback (most recent call last)",
      "\u001b[1;32m<ipython-input-4-cf604c019dfd>\u001b[0m in \u001b[0;36m<module>\u001b[1;34m\u001b[0m\n\u001b[0;32m      8\u001b[0m \u001b[1;33m\u001b[0m\u001b[0m\n\u001b[0;32m      9\u001b[0m \u001b[1;31m#Como se tiene una variable local y no se le ha asignado un valor, se genera un error\u001b[0m\u001b[1;33m\u001b[0m\u001b[1;33m\u001b[0m\u001b[1;33m\u001b[0m\u001b[0m\n\u001b[1;32m---> 10\u001b[1;33m \u001b[0mfuncion_v3\u001b[0m\u001b[1;33m(\u001b[0m\u001b[1;33m)\u001b[0m\u001b[1;33m\u001b[0m\u001b[1;33m\u001b[0m\u001b[0m\n\u001b[0m",
      "\u001b[1;32m<ipython-input-4-cf604c019dfd>\u001b[0m in \u001b[0;36mfuncion_v3\u001b[1;34m()\u001b[0m\n\u001b[0;32m      3\u001b[0m \u001b[1;31m#global\u001b[0m\u001b[1;33m\u001b[0m\u001b[1;33m\u001b[0m\u001b[1;33m\u001b[0m\u001b[0m\n\u001b[0;32m      4\u001b[0m \u001b[1;32mdef\u001b[0m \u001b[0mfuncion_v3\u001b[0m\u001b[1;33m(\u001b[0m\u001b[1;33m)\u001b[0m\u001b[1;33m:\u001b[0m\u001b[1;33m\u001b[0m\u001b[1;33m\u001b[0m\u001b[0m\n\u001b[1;32m----> 5\u001b[1;33m     \u001b[0mprint\u001b[0m\u001b[1;33m(\u001b[0m\u001b[0mvg\u001b[0m\u001b[1;33m)\u001b[0m\u001b[1;33m\u001b[0m\u001b[1;33m\u001b[0m\u001b[0m\n\u001b[0m\u001b[0;32m      6\u001b[0m     \u001b[0mvg\u001b[0m \u001b[1;33m=\u001b[0m \u001b[1;34m\"Local\"\u001b[0m\u001b[1;33m\u001b[0m\u001b[1;33m\u001b[0m\u001b[0m\n\u001b[0;32m      7\u001b[0m     \u001b[0mprint\u001b[0m\u001b[1;33m(\u001b[0m\u001b[0mvg\u001b[0m\u001b[1;33m)\u001b[0m\u001b[1;33m\u001b[0m\u001b[1;33m\u001b[0m\u001b[0m\n",
      "\u001b[1;31mUnboundLocalError\u001b[0m: local variable 'vg' referenced before assignment"
     ]
    }
   ],
   "source": [
    "#Se trata de imprimir el valor de la variable global, a diferencia de la función_v1(), se creó en el \n",
    "#espacio local de la funcion_v3() una variable con el mismo nombre, por lo que se reemplaza la variable\n",
    "#global\n",
    "def funcion_v3():\n",
    "    print(vg)\n",
    "    vg = \"Local\"\n",
    "    print(vg)\n",
    "    \n",
    "#Como se tiene una variable local y no se le ha asignado un valor, se genera un error\n",
    "funcion_v3()"
   ]
  },
  {
   "cell_type": "code",
   "execution_count": 5,
   "metadata": {},
   "outputs": [
    {
     "name": "stdout",
     "output_type": "stream",
     "text": [
      "Global\n",
      "Local\n",
      "Local\n"
     ]
    }
   ],
   "source": [
    "#Para resolver el problema anterior y especificar que se quiere hacer uso de la variable global dentro de la\n",
    "#función funcion_v4(), se tiene que agregar la palabra reservada global\n",
    "def funcion_v4():\n",
    "    global vg    #<---GLOBAL\n",
    "    print(vg)\n",
    "    vg = \"Local\"\n",
    "    print(vg)\n",
    "    \n",
    "#Al momento de ejecutar la función se imprime el valor que tenía asignado vg antes de se modificado por la función.\n",
    "#Después de asignar el valor, éste es impreso\n",
    "funcion_v4()\n",
    "\n",
    "#Se imprime la variable global con su valor modificado\n",
    "print(vg)"
   ]
  },
  {
   "cell_type": "code",
   "execution_count": null,
   "metadata": {},
   "outputs": [],
   "source": []
  }
 ],
 "metadata": {
  "kernelspec": {
   "display_name": "Python 3",
   "language": "python",
   "name": "python3"
  },
  "language_info": {
   "codemirror_mode": {
    "name": "ipython",
    "version": 3
   },
   "file_extension": ".py",
   "mimetype": "text/x-python",
   "name": "python",
   "nbconvert_exporter": "python",
   "pygments_lexer": "ipython3",
   "version": "3.7.7"
  }
 },
 "nbformat": 4,
 "nbformat_minor": 4
}
